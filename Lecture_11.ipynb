{
  "nbformat": 4,
  "nbformat_minor": 0,
  "metadata": {
    "colab": {
      "provenance": [],
      "collapsed_sections": [],
      "include_colab_link": true
    },
    "kernelspec": {
      "name": "python3",
      "display_name": "Python 3"
    },
    "language_info": {
      "name": "python"
    }
  },
  "cells": [
    {
      "cell_type": "markdown",
      "metadata": {
        "id": "view-in-github",
        "colab_type": "text"
      },
      "source": [
        "<a href=\"https://colab.research.google.com/github/JosephNdubuisi/holbertonschool-low_level_programming/blob/master/Lecture_11.ipynb\" target=\"_parent\"><img src=\"https://colab.research.google.com/assets/colab-badge.svg\" alt=\"Open In Colab\"/></a>"
      ]
    },
    {
      "cell_type": "code",
      "execution_count": null,
      "metadata": {
        "id": "fLsPYELqoSG1"
      },
      "outputs": [],
      "source": []
    },
    {
      "cell_type": "markdown",
      "source": [
        "Lecture 11 - October 19, 2022"
      ],
      "metadata": {
        "id": "Mr7TsxVZUVeG"
      }
    },
    {
      "cell_type": "code",
      "source": [],
      "metadata": {
        "id": "n0OKFJ8EUYWw"
      },
      "execution_count": null,
      "outputs": []
    },
    {
      "cell_type": "markdown",
      "source": [
        "*** Python OOP ***"
      ],
      "metadata": {
        "id": "K6Zu3agqUZIw"
      }
    },
    {
      "cell_type": "code",
      "source": [
        "# Point class\n",
        "class Point:\n",
        "  x = 0.0\n",
        "  y = 0.0\n",
        "\n",
        "p1 = Point()\n",
        "print(\"x coordinate of this point:\", p1.x)\n",
        "print(\"y coordinate of this point:\", p1.y)"
      ],
      "metadata": {
        "colab": {
          "base_uri": "https://localhost:8080/"
        },
        "id": "dpGEUanoUcOw",
        "outputId": "72543532-117c-415e-bf31-f3c9f383b6bd"
      },
      "execution_count": null,
      "outputs": [
        {
          "output_type": "stream",
          "name": "stdout",
          "text": [
            "x coordinate of this point: 0.0\n",
            "y coordinate of this point: 0.0\n"
          ]
        }
      ]
    },
    {
      "cell_type": "code",
      "source": [
        "print(p1)"
      ],
      "metadata": {
        "colab": {
          "base_uri": "https://localhost:8080/"
        },
        "id": "6FrPMtW9cClo",
        "outputId": "07a2546b-fd38-4862-e6c5-0d0a77c65b96"
      },
      "execution_count": null,
      "outputs": [
        {
          "output_type": "stream",
          "name": "stdout",
          "text": [
            "<__main__.Point object at 0x7fedd7783d10>\n"
          ]
        }
      ]
    },
    {
      "cell_type": "code",
      "source": [
        "p1.x = 3.0\n",
        "p1.y = 5.0\n",
        "print(p1.x)"
      ],
      "metadata": {
        "colab": {
          "base_uri": "https://localhost:8080/"
        },
        "id": "D6O2LaUdcIAn",
        "outputId": "d77e7488-3be9-45b3-d1eb-409e5173a41c"
      },
      "execution_count": null,
      "outputs": [
        {
          "output_type": "stream",
          "name": "stdout",
          "text": [
            "3.0\n"
          ]
        }
      ]
    },
    {
      "cell_type": "code",
      "source": [
        "p1.name = \"Some Point\""
      ],
      "metadata": {
        "id": "VAsdkcs2cZqL"
      },
      "execution_count": null,
      "outputs": []
    },
    {
      "cell_type": "code",
      "source": [
        "from math import *"
      ],
      "metadata": {
        "id": "ML9aUI8AcvNQ"
      },
      "execution_count": null,
      "outputs": []
    },
    {
      "cell_type": "code",
      "source": [
        "class Point:\n",
        "  x = 0.0\n",
        "  y = 0.0\n",
        "\n",
        "  def __init__(self, x_coord = 0.0, y_coord = 0.0):\n",
        "    self.x = x_coord\n",
        "    self.y = y_coord\n",
        "\n",
        "  def set_location(self, x, y):\n",
        "    self.x = x\n",
        "    self.y = y\n",
        "\n",
        "  def distance_from_the_origin(self):\n",
        "    return sqrt(self.x*self.x + self.y*self.y)\n",
        "\n",
        "  def distance(self, other):\n",
        "    dx = self.x - other.x\n",
        "    dy = self.y - other.y\n",
        "    return sqrt(dx*dx + dy*dy)\n",
        "\n",
        "  def translate(self, dx, dy):\n",
        "    self.x += dx\n",
        "    self.y += dy\n",
        "\n",
        "  def __str__(self):\n",
        "      return \"(\" + str(self.x) + \", \" + str(self.y) + \")\"\n",
        "   \n",
        "\n"
      ],
      "metadata": {
        "id": "_z56KuJsdCDa"
      },
      "execution_count": null,
      "outputs": []
    },
    {
      "cell_type": "code",
      "source": [
        "p = Point(3.0, -4.0)\n",
        "print(p)"
      ],
      "metadata": {
        "colab": {
          "base_uri": "https://localhost:8080/"
        },
        "id": "N1k5UIDRfTt2",
        "outputId": "15fb7cd5-dea4-4eb0-a519-782d0e73f02e"
      },
      "execution_count": null,
      "outputs": [
        {
          "output_type": "stream",
          "name": "stdout",
          "text": [
            "(3.0, -4.0)\n"
          ]
        }
      ]
    },
    {
      "cell_type": "code",
      "source": [
        "p.distance_from_the_origin()"
      ],
      "metadata": {
        "colab": {
          "base_uri": "https://localhost:8080/"
        },
        "id": "fiuFs0SVfad_",
        "outputId": "37064dbf-ef2e-48d3-92ac-b068a869a80d"
      },
      "execution_count": null,
      "outputs": [
        {
          "output_type": "execute_result",
          "data": {
            "text/plain": [
              "5.0"
            ]
          },
          "metadata": {},
          "execution_count": 8
        }
      ]
    },
    {
      "cell_type": "code",
      "source": [
        "p2 = Point(2.0, 3.0)\n",
        "p.distance(p2)"
      ],
      "metadata": {
        "colab": {
          "base_uri": "https://localhost:8080/"
        },
        "id": "crPEXd1KfjxZ",
        "outputId": "01d58dc2-cbba-4e7c-a052-b90fceaff1db"
      },
      "execution_count": null,
      "outputs": [
        {
          "output_type": "execute_result",
          "data": {
            "text/plain": [
              "7.0710678118654755"
            ]
          },
          "metadata": {},
          "execution_count": 9
        }
      ]
    },
    {
      "cell_type": "code",
      "source": [
        "p2.translate(-2, -3)\n",
        "print(p2)"
      ],
      "metadata": {
        "colab": {
          "base_uri": "https://localhost:8080/"
        },
        "id": "4x3TSEstftyM",
        "outputId": "7ae99cb9-d28f-4f28-94ef-a85635c69dd2"
      },
      "execution_count": null,
      "outputs": [
        {
          "output_type": "stream",
          "name": "stdout",
          "text": [
            "(0.0, 0.0)\n"
          ]
        }
      ]
    },
    {
      "cell_type": "code",
      "source": [
        "Point.name = \"me\""
      ],
      "metadata": {
        "id": "bVkUaBfuf3Ds"
      },
      "execution_count": null,
      "outputs": []
    },
    {
      "cell_type": "code",
      "source": [
        "p2.name"
      ],
      "metadata": {
        "colab": {
          "base_uri": "https://localhost:8080/",
          "height": 35
        },
        "id": "3ROU-5fWgNOU",
        "outputId": "7affd7fb-5cfd-4854-ac6d-423867e30a8e"
      },
      "execution_count": null,
      "outputs": [
        {
          "output_type": "execute_result",
          "data": {
            "text/plain": [
              "'me'"
            ],
            "application/vnd.google.colaboratory.intrinsic+json": {
              "type": "string"
            }
          },
          "metadata": {},
          "execution_count": 12
        }
      ]
    },
    {
      "cell_type": "code",
      "source": [
        "class Point3D(Point):\n",
        "  z = 0.0\n",
        "\n",
        "  def __init__(self, x, y, z):\n",
        "    Point.__init__(self, x, y)\n",
        "    self.z = z\n",
        "\n",
        "  def translate(self, dx, dy, dz):\n",
        "    Point.translate(self, dx, dy)\n",
        "    self.z += dz"
      ],
      "metadata": {
        "id": "oIoaNITjgRj2"
      },
      "execution_count": null,
      "outputs": []
    },
    {
      "cell_type": "code",
      "source": [
        "class Fraction:\n",
        "  denominator = 1\n",
        "  numerator = 0\n",
        "\n",
        "  def __init__(self, top, bottom):\n",
        "    if (bottom == 0):\n",
        "      bottom = 1\n",
        "    self.denominator = bottom\n",
        "    self.numerator = top\n",
        "\n",
        "  def __str__(self):\n",
        "    return str(self.numerator) + \"/\" + str(self.denominator)\n",
        "\n",
        "  def mult(self, other_fraction):\n",
        "    self.denominator *= other_fraction.denominator\n",
        "    self.numerator *= other_fraction.numerator"
      ],
      "metadata": {
        "id": "MbdeBkPskJB7"
      },
      "execution_count": null,
      "outputs": []
    },
    {
      "cell_type": "code",
      "source": [
        "f1 = Fraction(1, 2)\n",
        "f2 = Fraction(3, 4)\n",
        "print(f1)\n",
        "print(f2)"
      ],
      "metadata": {
        "colab": {
          "base_uri": "https://localhost:8080/"
        },
        "id": "DZKsjTt6xvix",
        "outputId": "77adf8fa-cadb-488b-d15a-a16352474ac8"
      },
      "execution_count": null,
      "outputs": [
        {
          "output_type": "stream",
          "name": "stdout",
          "text": [
            "1/2\n",
            "3/4\n"
          ]
        }
      ]
    },
    {
      "cell_type": "code",
      "source": [
        "f1.mult(f2)"
      ],
      "metadata": {
        "id": "W2wB3jLwx7m3"
      },
      "execution_count": null,
      "outputs": []
    },
    {
      "cell_type": "code",
      "source": [
        "print(f1)"
      ],
      "metadata": {
        "colab": {
          "base_uri": "https://localhost:8080/"
        },
        "id": "Yz2i8Kbyx-5S",
        "outputId": "2a694279-f674-4997-8482-252e0791c7f2"
      },
      "execution_count": null,
      "outputs": [
        {
          "output_type": "stream",
          "name": "stdout",
          "text": [
            "3/8\n"
          ]
        }
      ]
    },
    {
      "cell_type": "code",
      "source": [],
      "metadata": {
        "id": "nOEn0C0pyDB9"
      },
      "execution_count": null,
      "outputs": []
    }
  ]
}