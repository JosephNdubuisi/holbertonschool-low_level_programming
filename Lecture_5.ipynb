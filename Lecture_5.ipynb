{
  "cells": [
    {
      "cell_type": "markdown",
      "metadata": {
        "id": "view-in-github",
        "colab_type": "text"
      },
      "source": [
        "<a href=\"https://colab.research.google.com/github/JosephNdubuisi/holbertonschool-low_level_programming/blob/master/Lecture_5.ipynb\" target=\"_parent\"><img src=\"https://colab.research.google.com/assets/colab-badge.svg\" alt=\"Open In Colab\"/></a>"
      ]
    },
    {
      "cell_type": "code",
      "execution_count": null,
      "metadata": {
        "id": "tGaZwn6YdAiT"
      },
      "outputs": [],
      "source": []
    },
    {
      "cell_type": "markdown",
      "metadata": {
        "id": "TfyX3DYHNufj"
      },
      "source": [
        "Lecture 5 - October 5, 2022"
      ]
    },
    {
      "cell_type": "markdown",
      "metadata": {
        "id": "N6mtzGPdNyUX"
      },
      "source": [
        "Functions"
      ]
    },
    {
      "cell_type": "code",
      "execution_count": null,
      "metadata": {
        "id": "rTD5ImAQNx50"
      },
      "outputs": [],
      "source": [
        "def my_function(x, y, z=1.5, w=4):\n",
        "  if z > 1:\n",
        "    print(\"here\")\n",
        "  else:\n",
        "    print(\"there\")\n",
        "    "
      ]
    },
    {
      "cell_type": "code",
      "execution_count": null,
      "metadata": {
        "colab": {
          "base_uri": "https://localhost:8080/"
        },
        "id": "T2M1hgaGNwt-",
        "outputId": "c801bb3e-7a83-48b1-b03f-492052614e6b"
      },
      "outputs": [
        {
          "name": "stdout",
          "output_type": "stream",
          "text": [
            "here\n",
            "there\n",
            "here\n"
          ]
        }
      ],
      "source": [
        "my_function(1, 2) # x =1, y=2, z = 1.5, w = 4\n",
        "my_function(1, 2, 1) # z = 1 ,w = 4\n",
        "my_function(1, 2, 3, 24) #z = 3, w = 24"
      ]
    },
    {
      "cell_type": "code",
      "execution_count": null,
      "metadata": {
        "colab": {
          "base_uri": "https://localhost:8080/"
        },
        "id": "5qfMj9xQOHO-",
        "outputId": "2fe02681-af03-4796-d5ee-09eaecb61c3d"
      },
      "outputs": [
        {
          "name": "stdout",
          "output_type": "stream",
          "text": [
            "here\n",
            "None\n"
          ]
        }
      ],
      "source": [
        "ret_value = my_function(1, 2)\n",
        "print(ret_value)"
      ]
    },
    {
      "cell_type": "code",
      "execution_count": null,
      "metadata": {
        "id": "VlQxIE-cPacS"
      },
      "outputs": [],
      "source": [
        "# factorial(n) = n * (n-1) * (n-2) * ... * 2 * 1\n",
        "\n",
        "def factorial(num):\n",
        "  if (num == 0 | num == 1):\n",
        "    return 1\n",
        "  else:\n",
        "    return num * factorial(num-1)\n",
        "\n",
        "\n",
        "\n",
        "\n",
        "def factorial_starter():\n",
        "  n = int(input(\"Please enter an integer:\"))\n",
        "  fact = factorial(n)\n",
        "  print(\"Factorial of \" + str(n) + \" is \" + str(fact))\n",
        "\n",
        "\n",
        "#fact(3) = 3 * fact(2)\n",
        "#\n",
        "#              fact(2) = 2 * fact(1)\n",
        "#                            1\n"
      ]
    },
    {
      "cell_type": "code",
      "execution_count": null,
      "metadata": {
        "colab": {
          "base_uri": "https://localhost:8080/"
        },
        "id": "gGnP4qhRS0Ek",
        "outputId": "b07e6b04-2b5e-4b86-c0ea-8fe5deeb9f60"
      },
      "outputs": [
        {
          "name": "stdout",
          "output_type": "stream",
          "text": [
            "Please enter an integer:105\n",
            "Factorial of 105 is 1081396758240290900504101305800329649720646107774902579144176636573226531909905153326984536526808240339776398934872029657993872907813436816097280000000000000000000000000\n"
          ]
        }
      ],
      "source": [
        "factorial_starter()\n"
      ]
    },
    {
      "cell_type": "code",
      "execution_count": null,
      "metadata": {
        "colab": {
          "base_uri": "https://localhost:8080/"
        },
        "id": "DJkzfjcgS2xu",
        "outputId": "454d2ca5-c2cc-45d3-ace9-0533dcc2bc9a"
      },
      "outputs": [
        {
          "name": "stdout",
          "output_type": "stream",
          "text": [
            "Flattened list: [1, (2, 3), 4, 5, 6, 7, 8, 9]\n"
          ]
        }
      ],
      "source": [
        "some_list = [(1, (2, ((3)))), (4, 5, 6), (7, 8, 9)]\n",
        "\n",
        "flattened = []\n",
        "for tup in some_list:\n",
        "  for item in tup:\n",
        "    flattened.append(item)\n",
        "\n",
        "print(\"Flattened list:\", flattened)"
      ]
    },
    {
      "cell_type": "code",
      "execution_count": null,
      "metadata": {
        "id": "e_Sker5SVgu7"
      },
      "outputs": [],
      "source": [
        "def flatten(L):\n",
        "  if not L:\n",
        "    return L\n",
        "  elif isinstance(L[0], tuple):\n",
        "    return flatten(L[0]) + flatten(tuple(L[1:]))\n",
        "  else:\n",
        "    return (L[0],) + flatten(L[1:])"
      ]
    },
    {
      "cell_type": "code",
      "execution_count": null,
      "metadata": {
        "colab": {
          "base_uri": "https://localhost:8080/"
        },
        "id": "fAP10QK_b0YG",
        "outputId": "ec61bec4-0847-43e5-95be-157cdede0cce"
      },
      "outputs": [
        {
          "data": {
            "text/plain": [
              "(1, 2, 3, 4, 5, 6, 7, 8, 9)"
            ]
          },
          "execution_count": 27,
          "metadata": {},
          "output_type": "execute_result"
        }
      ],
      "source": [
        "flatten(some_list)"
      ]
    },
    {
      "cell_type": "code",
      "execution_count": null,
      "metadata": {
        "id": "832pGG2PdVTe"
      },
      "outputs": [],
      "source": [
        "a = None\n",
        "\n",
        "def bind_a_variable():\n",
        "  #global a\n",
        "  a = []"
      ]
    },
    {
      "cell_type": "code",
      "execution_count": null,
      "metadata": {
        "id": "0XGoGt4xf5bn"
      },
      "outputs": [],
      "source": [
        "bind_a_variable()"
      ]
    },
    {
      "cell_type": "code",
      "execution_count": null,
      "metadata": {
        "colab": {
          "base_uri": "https://localhost:8080/"
        },
        "id": "NoEhg-H0f7-N",
        "outputId": "cd13180b-3c99-480a-c1a4-ad401efa6d6e"
      },
      "outputs": [
        {
          "name": "stdout",
          "output_type": "stream",
          "text": [
            "None\n"
          ]
        }
      ],
      "source": [
        "print(a)"
      ]
    },
    {
      "cell_type": "code",
      "execution_count": null,
      "metadata": {
        "colab": {
          "base_uri": "https://localhost:8080/"
        },
        "id": "s5XFbp2agFLz",
        "outputId": "771292f3-8ef1-4779-ffd4-381ed318d3f1"
      },
      "outputs": [
        {
          "name": "stdout",
          "output_type": "stream",
          "text": [
            "3\n"
          ]
        }
      ],
      "source": [
        "# Returning Multiple Values\n",
        "\n",
        "def foo():\n",
        "  a = 5\n",
        "  b = 3\n",
        "  c = 1\n",
        "  return a, b, c\n",
        "\n",
        "v1, v2, v3 = foo()\n",
        "print(v2)\n"
      ]
    },
    {
      "cell_type": "code",
      "execution_count": null,
      "metadata": {
        "colab": {
          "base_uri": "https://localhost:8080/"
        },
        "id": "TwZphDrFgxZQ",
        "outputId": "fad2a018-c8fc-4a75-e78d-306ef9e172d2"
      },
      "outputs": [
        {
          "name": "stdout",
          "output_type": "stream",
          "text": [
            "(5, 3, 1)\n"
          ]
        }
      ],
      "source": [
        "return_val = foo()\n",
        "print(return_val)"
      ]
    },
    {
      "cell_type": "code",
      "execution_count": null,
      "metadata": {
        "colab": {
          "base_uri": "https://localhost:8080/"
        },
        "id": "McYOHy-Vg-vJ",
        "outputId": "e866b613-ce47-450b-b781-d21c2034987b"
      },
      "outputs": [
        {
          "name": "stdout",
          "output_type": "stream",
          "text": [
            "<class 'tuple'>\n"
          ]
        }
      ],
      "source": [
        "print(type(return_val))"
      ]
    },
    {
      "cell_type": "code",
      "execution_count": null,
      "metadata": {
        "id": "bR5wlv6PhJig"
      },
      "outputs": [],
      "source": [
        "states = ['Alabama ', 'Georgia!', 'georgia', 'FLoRiDa', \"south carolina####@@@#\", \"West Virginia????\"]"
      ]
    },
    {
      "cell_type": "code",
      "execution_count": null,
      "metadata": {
        "id": "VB8GMey7iUOf"
      },
      "outputs": [],
      "source": [
        "# re - library for regular expressions\n",
        "import re"
      ]
    },
    {
      "cell_type": "code",
      "execution_count": null,
      "metadata": {
        "id": "w-WOCZ6yirDC"
      },
      "outputs": [],
      "source": [
        "def clean_strings(a_list_to_clean):\n",
        "  result = []\n",
        "  for value in a_list_to_clean:\n",
        "    value = value.strip()\n",
        "    value = re.sub('[!#@?]', '', value)\n",
        "    value = value.title()\n",
        "    result.append(value)\n",
        "  \n",
        "  return result"
      ]
    },
    {
      "cell_type": "code",
      "execution_count": null,
      "metadata": {
        "colab": {
          "base_uri": "https://localhost:8080/"
        },
        "id": "zOHCnitVkJOk",
        "outputId": "b121ff2c-e1e9-478c-f820-91e162b6082d"
      },
      "outputs": [
        {
          "data": {
            "text/plain": [
              "['Alabama', 'Georgia', 'Georgia', 'Florida', 'South Carolina', 'West Virginia']"
            ]
          },
          "execution_count": 46,
          "metadata": {},
          "output_type": "execute_result"
        }
      ],
      "source": [
        "clean_strings(states)"
      ]
    },
    {
      "cell_type": "code",
      "execution_count": null,
      "metadata": {
        "id": "A7Adi5Q3kOhT"
      },
      "outputs": [],
      "source": [
        "def remove_punctuation(value):\n",
        "  return re.sub('[!@#?]', '', value)\n",
        "\n",
        "cleaning_ops = [str.strip, remove_punctuation, str.title]\n",
        "\n",
        "def clean_strings_generic(strings, ops):\n",
        "  result = []\n",
        "  for value in strings:\n",
        "    for func in ops:\n",
        "      value = func(value)\n",
        "    result.append(value)\n",
        "  \n",
        "  return result"
      ]
    },
    {
      "cell_type": "code",
      "execution_count": null,
      "metadata": {
        "colab": {
          "base_uri": "https://localhost:8080/"
        },
        "id": "CYZDYjKqlqso",
        "outputId": "be4750e2-5095-4cda-a71e-693cc8ebfe8f"
      },
      "outputs": [
        {
          "data": {
            "text/plain": [
              "['Alabama', 'Georgia', 'Georgia', 'Florida', 'South Carolina', 'West Virginia']"
            ]
          },
          "execution_count": 48,
          "metadata": {},
          "output_type": "execute_result"
        }
      ],
      "source": [
        "clean_strings_generic(states, cleaning_ops)"
      ]
    },
    {
      "cell_type": "code",
      "execution_count": null,
      "metadata": {
        "id": "vz4eKtiblyLO"
      },
      "outputs": [],
      "source": []
    },
    {
      "cell_type": "markdown",
      "metadata": {
        "id": "aSqW3HlApZnm"
      },
      "source": [
        "Random Numbers"
      ]
    },
    {
      "cell_type": "code",
      "execution_count": null,
      "metadata": {
        "id": "oagbh1Mppbbn"
      },
      "outputs": [],
      "source": [
        "import random"
      ]
    },
    {
      "cell_type": "code",
      "execution_count": null,
      "metadata": {
        "colab": {
          "base_uri": "https://localhost:8080/"
        },
        "id": "J1PF-Kd_ptj1",
        "outputId": "9f97d643-7b2d-4eae-dc24-8d967dd9b3f6"
      },
      "outputs": [
        {
          "data": {
            "text/plain": [
              "4"
            ]
          },
          "execution_count": 53,
          "metadata": {},
          "output_type": "execute_result"
        }
      ],
      "source": [
        "random.randint(0, 5)"
      ]
    },
    {
      "cell_type": "code",
      "execution_count": null,
      "metadata": {
        "id": "mIx17EqeqD2O"
      },
      "outputs": [],
      "source": [
        "my_prod_list = [\"mini-fridge\", \"microwave\", \"waffle maker\", \"toaster\", \"blender\"]\n",
        "\n",
        "\n",
        "def get_random_product(prod_list):\n",
        "\n",
        "  answer = 'y'\n",
        "  while answer != 'n':\n",
        "    rand_int = random.randint(0, len(prod_list) - 1)\n",
        "    rand_item = prod_list[rand_int]\n",
        "    print(\"Random product chosen was \" + rand_item)\n",
        "    answer = input(\"Do you want another random product?(y/n\")\n"
      ]
    },
    {
      "cell_type": "code",
      "execution_count": null,
      "metadata": {
        "colab": {
          "base_uri": "https://localhost:8080/"
        },
        "id": "2_uGBsPprPUU",
        "outputId": "f0ca4ddb-03a7-4665-dde0-8abd56a8dcbc"
      },
      "outputs": [
        {
          "name": "stdout",
          "output_type": "stream",
          "text": [
            "Random product chosen was mini-fridge\n",
            "Do you want another random product?y\n",
            "Random product chosen was waffle maker\n",
            "Do you want another random product?y\n",
            "Random product chosen was toaster\n",
            "Do you want another random product?y\n",
            "Random product chosen was microwave\n",
            "Do you want another random product?y\n",
            "Random product chosen was blender\n",
            "Do you want another random product?y\n",
            "Random product chosen was microwave\n",
            "Do you want another random product?y\n",
            "Random product chosen was mini-fridge\n",
            "Do you want another random product?y\n",
            "Random product chosen was toaster\n",
            "Do you want another random product?y\n",
            "Random product chosen was toaster\n",
            "Do you want another random product?n\n"
          ]
        }
      ],
      "source": [
        "get_random_product(my_prod_list)"
      ]
    },
    {
      "cell_type": "code",
      "execution_count": null,
      "metadata": {
        "colab": {
          "base_uri": "https://localhost:8080/"
        },
        "id": "87170I1drR1v",
        "outputId": "9be0fca9-ffd7-42d7-cb69-5b6b958f010a"
      },
      "outputs": [
        {
          "name": "stdout",
          "output_type": "stream",
          "text": [
            "0.32119312396209443\n"
          ]
        }
      ],
      "source": [
        "n1 = random.random()\n",
        "print(n1)"
      ]
    },
    {
      "cell_type": "code",
      "execution_count": null,
      "metadata": {
        "colab": {
          "base_uri": "https://localhost:8080/"
        },
        "id": "wZkl2obgsGOC",
        "outputId": "1721f4ca-90c6-4a24-8fda-961390bca50b"
      },
      "outputs": [
        {
          "name": "stdout",
          "output_type": "stream",
          "text": [
            "1928\n",
            "1947\n",
            "1927\n",
            "1973\n",
            "1997\n",
            "1922\n",
            "1942\n",
            "1913\n",
            "1987\n",
            "1955\n"
          ]
        }
      ],
      "source": [
        "# print a random year from 1900-1999 10 times\n",
        "\n",
        "for n in range(10):\n",
        "  num = random.randint(1900, 1999)\n",
        "  print(num)"
      ]
    },
    {
      "cell_type": "code",
      "execution_count": null,
      "metadata": {
        "id": "__MtrJg2sZfP"
      },
      "outputs": [],
      "source": []
    },
    {
      "cell_type": "markdown",
      "metadata": {
        "id": "dVv2pY4Ksfsx"
      },
      "source": [
        "Generate a random pin"
      ]
    },
    {
      "cell_type": "code",
      "execution_count": null,
      "metadata": {
        "id": "niJTLwieshtl"
      },
      "outputs": [],
      "source": [
        "# generate a list of all possible 4-digit pin numbers from 0000 to 9999\n",
        "# lets fill leading zeros\n",
        "i = 0\n",
        "pins = []\n",
        "while i < 10000:\n",
        "  pins.append(i)\n",
        "  i = i + 1\n",
        "\n",
        "pins[20:30]\n",
        "\n",
        "\n",
        "# we need leading zeros\n",
        "pins = []\n",
        "pin = \"\"\n",
        "for n in range(10000):\n",
        "  if n < 10:\n",
        "    pin = \"000\" + str(n)\n",
        "  elif n < 100:\n",
        "    pin = \"00\" + str(n)\n",
        "  elif n < 1000:\n",
        "    pin = \"0\" + str(n)\n",
        "  else:\n",
        "    pin = str(n)\n",
        "\n",
        "  pins.append(pin)"
      ]
    },
    {
      "cell_type": "code",
      "execution_count": null,
      "metadata": {
        "colab": {
          "base_uri": "https://localhost:8080/"
        },
        "id": "VJg0-C_ctMap",
        "outputId": "903a25b2-dea3-4e43-9939-be4521bd17c5"
      },
      "outputs": [
        {
          "data": {
            "text/plain": [
              "['6420',\n",
              " '2219',\n",
              " '0204',\n",
              " '7563',\n",
              " '9257',\n",
              " '2121',\n",
              " '1337',\n",
              " '9220',\n",
              " '9771',\n",
              " '7470']"
            ]
          },
          "execution_count": 68,
          "metadata": {},
          "output_type": "execute_result"
        }
      ],
      "source": [
        "random.shuffle(pins)\n",
        "pins[20:30]"
      ]
    },
    {
      "cell_type": "code",
      "execution_count": null,
      "metadata": {
        "colab": {
          "base_uri": "https://localhost:8080/"
        },
        "id": "VJf9B3Z2tzQ1",
        "outputId": "fba5f42e-07b3-4d45-9124-cc173b000dea"
      },
      "outputs": [
        {
          "name": "stdout",
          "output_type": "stream",
          "text": [
            "Random pin: 9467\n"
          ]
        }
      ],
      "source": [
        "# generate a random pin\n",
        "r = random.randint(0, 9999)\n",
        "rand_pin = pins[r]\n",
        "print(\"Random pin:\", rand_pin)"
      ]
    },
    {
      "cell_type": "code",
      "execution_count": null,
      "metadata": {
        "id": "yOeL7X6BulRP"
      },
      "outputs": [],
      "source": [
        "# LEts have user guess the pin nummber\n",
        "# Provide user with feedback until they guess correctly\n",
        "\n",
        "\n",
        "def play_guess_the_pin():\n",
        "  r = random.randint(0, 9999)\n",
        "  rand_pin = pins[r]\n",
        "\n",
        "  guess = input(\"Guess the 4-digit pin:\")\n",
        "\n",
        "  # compare the input to the guess\n",
        "  while guess != rand_pin:\n",
        "    if guess < rand_pin:\n",
        "      print(\"Your guess is too low...\")\n",
        "      guess = input(\"Guess again:\")\n",
        "    else:\n",
        "      print(\"Your guess is too high...\")\n",
        "      guess = input(\"Guess again\")\n",
        "\n",
        "  print(\"You are correct! The pin is \" + guess)"
      ]
    },
    {
      "cell_type": "code",
      "execution_count": null,
      "metadata": {
        "colab": {
          "base_uri": "https://localhost:8080/"
        },
        "id": "8w5Quj1YvhhB",
        "outputId": "1fa86ea6-3142-45a2-f64a-0bbbaf860e61"
      },
      "outputs": [
        {
          "name": "stdout",
          "output_type": "stream",
          "text": [
            "Guess the 4-digit pin:5555\n",
            "Your guess is too high...\n",
            "Guess again3333\n",
            "Your guess is too low...\n",
            "Guess again:4444\n",
            "Your guess is too low...\n",
            "Guess again:5000\n",
            "Your guess is too high...\n",
            "Guess again4777\n",
            "Your guess is too high...\n",
            "Guess again4666\n",
            "Your guess is too low...\n",
            "Guess again:4725\n",
            "Your guess is too high...\n",
            "Guess again4710\n",
            "Your guess is too high...\n",
            "Guess again4700\n",
            "Your guess is too low...\n",
            "Guess again:4705\n",
            "Your guess is too low...\n",
            "Guess again:4707\n",
            "Your guess is too low...\n",
            "Guess again:4709\n",
            "Your guess is too high...\n",
            "Guess again4708\n",
            "You are correct! The pin is 4708\n"
          ]
        }
      ],
      "source": [
        "play_guess_the_pin()"
      ]
    },
    {
      "cell_type": "markdown",
      "metadata": {
        "id": "gnsWZVIuwQgZ"
      },
      "source": [
        "Card Games"
      ]
    },
    {
      "cell_type": "code",
      "execution_count": null,
      "metadata": {
        "colab": {
          "base_uri": "https://localhost:8080/"
        },
        "id": "MV1xZtVuvkEB",
        "outputId": "ab8c7ec6-8f2b-4207-b6f4-75de859d524e"
      },
      "outputs": [
        {
          "name": "stdout",
          "output_type": "stream",
          "text": [
            "['♣', '♠', '♥', '♦']\n"
          ]
        }
      ],
      "source": [
        "# build a deck of 52 playing cards (13 values x 4 suits)\n",
        "values = [\"A\", \"2\", \"3\", \"4\", \"5\", \"6\", \"7\", \"8\", \"9\", \"10\", \"J\", \"Q\", \"K\"]\n",
        "suits = [\"\\u2663\", \"\\u2660\", \"\\u2665\", \"\\u2666\"]\n",
        "deck = []\n",
        "print(suits)"
      ]
    },
    {
      "cell_type": "code",
      "execution_count": null,
      "metadata": {
        "id": "hpgD3VThxE17"
      },
      "outputs": [],
      "source": [
        "for v in values: # loop 13 times\n",
        "  for s in suits: # loop 4 times\n",
        "    deck.append(v+s)"
      ]
    },
    {
      "cell_type": "code",
      "execution_count": null,
      "metadata": {
        "colab": {
          "base_uri": "https://localhost:8080/"
        },
        "id": "ZFzx0-pPxqpn",
        "outputId": "e58ad8cb-37fc-4840-df13-abb881c22198"
      },
      "outputs": [
        {
          "name": "stdout",
          "output_type": "stream",
          "text": [
            "['A♣', 'A♠', 'A♥', 'A♦', '2♣', '2♠', '2♥', '2♦', '3♣', '3♠', '3♥', '3♦', '4♣', '4♠', '4♥', '4♦', '5♣', '5♠', '5♥', '5♦', '6♣', '6♠', '6♥', '6♦', '7♣', '7♠', '7♥', '7♦', '8♣', '8♠', '8♥', '8♦', '9♣', '9♠', '9♥', '9♦', '10♣', '10♠', '10♥', '10♦', 'J♣', 'J♠', 'J♥', 'J♦', 'Q♣', 'Q♠', 'Q♥', 'Q♦', 'K♣', 'K♠', 'K♥', 'K♦']\n",
            "52\n"
          ]
        }
      ],
      "source": [
        "print(deck)\n",
        "print(len(deck))"
      ]
    },
    {
      "cell_type": "code",
      "execution_count": null,
      "metadata": {
        "colab": {
          "base_uri": "https://localhost:8080/"
        },
        "id": "ssLKGkpIx0QR",
        "outputId": "0c6652f9-6db2-4efc-f1c0-ab489895667f"
      },
      "outputs": [
        {
          "name": "stdout",
          "output_type": "stream",
          "text": [
            "['4♦', '5♦', '4♣', '8♥', '2♣', '10♠', 'A♥', '6♣', '8♦', '3♣', 'K♣', 'J♠', '7♥', '9♠', 'Q♥', 'Q♣', 'J♥', 'K♦', 'A♠', '9♣', '8♣', '7♦', '5♣', 'Q♠', '6♦', '10♦', 'J♦', 'J♣', '5♥', '6♥', '8♠', '2♦', '2♥', '6♠', 'Q♦', 'A♣', '10♥', '10♣', '4♠', '7♠', '4♥', '3♠', '2♠', 'A♦', 'K♠', '3♦', 'K♥', '9♥', '5♠', '7♣', '3♥', '9♦']\n"
          ]
        }
      ],
      "source": [
        "random.shuffle(deck)\n",
        "print(deck)"
      ]
    },
    {
      "cell_type": "code",
      "execution_count": null,
      "metadata": {
        "id": "tU6yovXryD7u"
      },
      "outputs": [],
      "source": [
        "# deal a poker hand of 5 cards at random (no repeats, must remove a card after\n",
        "# selecting the card\n",
        "\n",
        "poker_hand = []\n",
        "\n",
        "for i in range(5):\n",
        "  random_card_index = random.randint(0, len(deck)-1)\n",
        "  random_card = deck[random_card_index]\n",
        "  poker_hand.append(random_card)\n",
        "  deck.pop(random_card_index)"
      ]
    },
    {
      "cell_type": "code",
      "execution_count": null,
      "metadata": {
        "colab": {
          "background_save": true
        },
        "id": "P2YjgxdUzVor",
        "outputId": "7dd04e36-2478-45d1-ceb2-6cfdc3320361"
      },
      "outputs": [
        {
          "name": "stdout",
          "output_type": "stream",
          "text": [
            "Shuffled deck: ['4♦', '5♦', '4♣', '8♥', '2♣', '10♠', 'A♥', '6♣', '8♦', '3♣', 'K♣', 'J♠', '7♥', '9♠', 'Q♥', 'Q♣', 'K♦', 'A♠', '9♣', '7♦', '5♣', 'Q♠', '6♦', '10♦', 'J♦', 'J♣', '5♥', '6♥', '8♠', '2♦', '2♥', '6♠', 'Q♦', 'A♣', '10♥', '4♠', '4♥', '2♠', 'A♦', 'K♠', '3♦', 'K♥', '9♥', '5♠', '7♣', '3♥', '9♦']\n",
            "Poker hand: ['10♣', '8♣', 'J♥', '7♠', '3♠']\n"
          ]
        },
        {
          "ename": "TypeError",
          "evalue": "ignored",
          "output_type": "error",
          "traceback": [
            "\u001b[0;31m---------------------------------------------------------------------------\u001b[0m",
            "\u001b[0;31mTypeError\u001b[0m                                 Traceback (most recent call last)",
            "\u001b[0;32m<ipython-input-87-a65fc09513a5>\u001b[0m in \u001b[0;36m<module>\u001b[0;34m\u001b[0m\n\u001b[1;32m      1\u001b[0m \u001b[0mprint\u001b[0m\u001b[0;34m(\u001b[0m\u001b[0;34m\"Shuffled deck:\"\u001b[0m\u001b[0;34m,\u001b[0m \u001b[0mdeck\u001b[0m\u001b[0;34m)\u001b[0m\u001b[0;34m\u001b[0m\u001b[0;34m\u001b[0m\u001b[0m\n\u001b[1;32m      2\u001b[0m \u001b[0mprint\u001b[0m\u001b[0;34m(\u001b[0m\u001b[0;34m\"Poker hand:\"\u001b[0m\u001b[0;34m,\u001b[0m \u001b[0mpoker_hand\u001b[0m\u001b[0;34m)\u001b[0m\u001b[0;34m\u001b[0m\u001b[0;34m\u001b[0m\u001b[0m\n\u001b[0;32m----> 3\u001b[0;31m \u001b[0mprint\u001b[0m\u001b[0;34m(\u001b[0m\u001b[0;34m\"The deck now has \"\u001b[0m \u001b[0;34m+\u001b[0m \u001b[0mlen\u001b[0m\u001b[0;34m(\u001b[0m\u001b[0mdeck\u001b[0m\u001b[0;34m)\u001b[0m \u001b[0;34m+\u001b[0m \u001b[0;34m\" card remaining\"\u001b[0m\u001b[0;34m)\u001b[0m\u001b[0;34m\u001b[0m\u001b[0;34m\u001b[0m\u001b[0m\n\u001b[0m",
            "\u001b[0;31mTypeError\u001b[0m: can only concatenate str (not \"int\") to str"
          ]
        }
      ],
      "source": [
        "print(\"Shuffled deck:\", deck)\n",
        "print(\"Poker hand:\", poker_hand)\n",
        "print(\"The deck now has \" + len(deck) + \" card remaining\")"
      ]
    },
    {
      "cell_type": "code",
      "execution_count": null,
      "metadata": {
        "id": "N1pqTgEMzd5b"
      },
      "outputs": [],
      "source": []
    }
  ],
  "metadata": {
    "colab": {
      "provenance": [],
      "include_colab_link": true
    },
    "kernelspec": {
      "display_name": "Python 3",
      "name": "python3"
    },
    "language_info": {
      "name": "python"
    }
  },
  "nbformat": 4,
  "nbformat_minor": 0
}