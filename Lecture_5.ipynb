{
  "nbformat": 4,
  "nbformat_minor": 0,
  "metadata": {
    "colab": {
      "provenance": [],
      "include_colab_link": true
    },
    "kernelspec": {
      "name": "python3",
      "display_name": "Python 3"
    },
    "language_info": {
      "name": "python"
    }
  },
  "cells": [
    {
      "cell_type": "markdown",
      "metadata": {
        "id": "view-in-github",
        "colab_type": "text"
      },
      "source": [
        "<a href=\"https://colab.research.google.com/github/JosephNdubuisi/holbertonschool-low_level_programming/blob/master/Lecture_5.ipynb\" target=\"_parent\"><img src=\"https://colab.research.google.com/assets/colab-badge.svg\" alt=\"Open In Colab\"/></a>"
      ]
    },
    {
      "cell_type": "code",
      "execution_count": null,
      "metadata": {
        "id": "tGaZwn6YdAiT"
      },
      "outputs": [],
      "source": []
    },
    {
      "cell_type": "markdown",
      "source": [
        "Lecture 5 - October 5, 2022"
      ],
      "metadata": {
        "id": "TfyX3DYHNufj"
      }
    },
    {
      "cell_type": "markdown",
      "source": [
        "Functions"
      ],
      "metadata": {
        "id": "N6mtzGPdNyUX"
      }
    },
    {
      "cell_type": "code",
      "source": [
        "def my_function(x, y, z=1.5, w=4):\n",
        "  if z > 1:\n",
        "    print(\"here\")\n",
        "  else:\n",
        "    print(\"there\")\n",
        "    "
      ],
      "metadata": {
        "id": "rTD5ImAQNx50"
      },
      "execution_count": null,
      "outputs": []
    },
    {
      "cell_type": "code",
      "source": [
        "my_function(1, 2) # x =1, y=2, z = 1.5, w = 4\n",
        "my_function(1, 2, 1) # z = 1 ,w = 4\n",
        "my_function(1, 2, 3, 24) #z = 3, w = 24"
      ],
      "metadata": {
        "colab": {
          "base_uri": "https://localhost:8080/"
        },
        "id": "T2M1hgaGNwt-",
        "outputId": "c801bb3e-7a83-48b1-b03f-492052614e6b"
      },
      "execution_count": null,
      "outputs": [
        {
          "output_type": "stream",
          "name": "stdout",
          "text": [
            "here\n",
            "there\n",
            "here\n"
          ]
        }
      ]
    },
    {
      "cell_type": "code",
      "source": [
        "ret_value = my_function(1, 2)\n",
        "print(ret_value)"
      ],
      "metadata": {
        "colab": {
          "base_uri": "https://localhost:8080/"
        },
        "id": "5qfMj9xQOHO-",
        "outputId": "2fe02681-af03-4796-d5ee-09eaecb61c3d"
      },
      "execution_count": null,
      "outputs": [
        {
          "output_type": "stream",
          "name": "stdout",
          "text": [
            "here\n",
            "None\n"
          ]
        }
      ]
    },
    {
      "cell_type": "code",
      "source": [
        "# factorial(n) = n * (n-1) * (n-2) * ... * 2 * 1\n",
        "\n",
        "def factorial(num):\n",
        "  if (num == 0 | num == 1):\n",
        "    return 1\n",
        "  else:\n",
        "    return num * factorial(num-1)\n",
        "\n",
        "\n",
        "\n",
        "\n",
        "def factorial_starter():\n",
        "  n = int(input(\"Please enter an integer:\"))\n",
        "  fact = factorial(n)\n",
        "  print(\"Factorial of \" + str(n) + \" is \" + str(fact))\n",
        "\n",
        "\n",
        "#fact(3) = 3 * fact(2)\n",
        "#\n",
        "#              fact(2) = 2 * fact(1)\n",
        "#                            1\n"
      ],
      "metadata": {
        "id": "VlQxIE-cPacS"
      },
      "execution_count": null,
      "outputs": []
    },
    {
      "cell_type": "code",
      "source": [
        "factorial_starter()\n"
      ],
      "metadata": {
        "colab": {
          "base_uri": "https://localhost:8080/"
        },
        "id": "gGnP4qhRS0Ek",
        "outputId": "b07e6b04-2b5e-4b86-c0ea-8fe5deeb9f60"
      },
      "execution_count": null,
      "outputs": [
        {
          "output_type": "stream",
          "name": "stdout",
          "text": [
            "Please enter an integer:105\n",
            "Factorial of 105 is 1081396758240290900504101305800329649720646107774902579144176636573226531909905153326984536526808240339776398934872029657993872907813436816097280000000000000000000000000\n"
          ]
        }
      ]
    },
    {
      "cell_type": "code",
      "source": [
        "some_list = [(1, (2, ((3)))), (4, 5, 6), (7, 8, 9)]\n",
        "\n",
        "flattened = []\n",
        "for tup in some_list:\n",
        "  for item in tup:\n",
        "    flattened.append(item)\n",
        "\n",
        "print(\"Flattened list:\", flattened)"
      ],
      "metadata": {
        "colab": {
          "base_uri": "https://localhost:8080/"
        },
        "id": "DJkzfjcgS2xu",
        "outputId": "454d2ca5-c2cc-45d3-ace9-0533dcc2bc9a"
      },
      "execution_count": null,
      "outputs": [
        {
          "output_type": "stream",
          "name": "stdout",
          "text": [
            "Flattened list: [1, (2, 3), 4, 5, 6, 7, 8, 9]\n"
          ]
        }
      ]
    },
    {
      "cell_type": "code",
      "source": [
        "def flatten(L):\n",
        "  if not L:\n",
        "    return L\n",
        "  elif isinstance(L[0], tuple):\n",
        "    return flatten(L[0]) + flatten(tuple(L[1:]))\n",
        "  else:\n",
        "    return (L[0],) + flatten(L[1:])"
      ],
      "metadata": {
        "id": "e_Sker5SVgu7"
      },
      "execution_count": null,
      "outputs": []
    },
    {
      "cell_type": "code",
      "source": [
        "flatten(some_list)"
      ],
      "metadata": {
        "colab": {
          "base_uri": "https://localhost:8080/"
        },
        "id": "fAP10QK_b0YG",
        "outputId": "ec61bec4-0847-43e5-95be-157cdede0cce"
      },
      "execution_count": null,
      "outputs": [
        {
          "output_type": "execute_result",
          "data": {
            "text/plain": [
              "(1, 2, 3, 4, 5, 6, 7, 8, 9)"
            ]
          },
          "metadata": {},
          "execution_count": 27
        }
      ]
    },
    {
      "cell_type": "code",
      "source": [
        "a = None\n",
        "\n",
        "def bind_a_variable():\n",
        "  #global a\n",
        "  a = []"
      ],
      "metadata": {
        "id": "832pGG2PdVTe"
      },
      "execution_count": null,
      "outputs": []
    },
    {
      "cell_type": "code",
      "source": [
        "bind_a_variable()"
      ],
      "metadata": {
        "id": "0XGoGt4xf5bn"
      },
      "execution_count": null,
      "outputs": []
    },
    {
      "cell_type": "code",
      "source": [
        "print(a)"
      ],
      "metadata": {
        "colab": {
          "base_uri": "https://localhost:8080/"
        },
        "id": "NoEhg-H0f7-N",
        "outputId": "cd13180b-3c99-480a-c1a4-ad401efa6d6e"
      },
      "execution_count": null,
      "outputs": [
        {
          "output_type": "stream",
          "name": "stdout",
          "text": [
            "None\n"
          ]
        }
      ]
    },
    {
      "cell_type": "code",
      "source": [
        "# Returning Multiple Values\n",
        "\n",
        "def foo():\n",
        "  a = 5\n",
        "  b = 3\n",
        "  c = 1\n",
        "  return a, b, c\n",
        "\n",
        "v1, v2, v3 = foo()\n",
        "print(v2)\n"
      ],
      "metadata": {
        "colab": {
          "base_uri": "https://localhost:8080/"
        },
        "id": "s5XFbp2agFLz",
        "outputId": "771292f3-8ef1-4779-ffd4-381ed318d3f1"
      },
      "execution_count": null,
      "outputs": [
        {
          "output_type": "stream",
          "name": "stdout",
          "text": [
            "3\n"
          ]
        }
      ]
    },
    {
      "cell_type": "code",
      "source": [
        "return_val = foo()\n",
        "print(return_val)"
      ],
      "metadata": {
        "colab": {
          "base_uri": "https://localhost:8080/"
        },
        "id": "TwZphDrFgxZQ",
        "outputId": "fad2a018-c8fc-4a75-e78d-306ef9e172d2"
      },
      "execution_count": null,
      "outputs": [
        {
          "output_type": "stream",
          "name": "stdout",
          "text": [
            "(5, 3, 1)\n"
          ]
        }
      ]
    },
    {
      "cell_type": "code",
      "source": [
        "print(type(return_val))"
      ],
      "metadata": {
        "colab": {
          "base_uri": "https://localhost:8080/"
        },
        "id": "McYOHy-Vg-vJ",
        "outputId": "e866b613-ce47-450b-b781-d21c2034987b"
      },
      "execution_count": null,
      "outputs": [
        {
          "output_type": "stream",
          "name": "stdout",
          "text": [
            "<class 'tuple'>\n"
          ]
        }
      ]
    },
    {
      "cell_type": "code",
      "source": [
        "states = ['Alabama ', 'Georgia!', 'georgia', 'FLoRiDa', \"south carolina####@@@#\", \"West Virginia????\"]"
      ],
      "metadata": {
        "id": "bR5wlv6PhJig"
      },
      "execution_count": null,
      "outputs": []
    },
    {
      "cell_type": "code",
      "source": [
        "# re - library for regular expressions\n",
        "import re"
      ],
      "metadata": {
        "id": "VB8GMey7iUOf"
      },
      "execution_count": null,
      "outputs": []
    },
    {
      "cell_type": "code",
      "source": [
        "def clean_strings(a_list_to_clean):\n",
        "  result = []\n",
        "  for value in a_list_to_clean:\n",
        "    value = value.strip()\n",
        "    value = re.sub('[!#@?]', '', value)\n",
        "    value = value.title()\n",
        "    result.append(value)\n",
        "  \n",
        "  return result"
      ],
      "metadata": {
        "id": "w-WOCZ6yirDC"
      },
      "execution_count": null,
      "outputs": []
    },
    {
      "cell_type": "code",
      "source": [
        "clean_strings(states)"
      ],
      "metadata": {
        "colab": {
          "base_uri": "https://localhost:8080/"
        },
        "id": "zOHCnitVkJOk",
        "outputId": "b121ff2c-e1e9-478c-f820-91e162b6082d"
      },
      "execution_count": null,
      "outputs": [
        {
          "output_type": "execute_result",
          "data": {
            "text/plain": [
              "['Alabama', 'Georgia', 'Georgia', 'Florida', 'South Carolina', 'West Virginia']"
            ]
          },
          "metadata": {},
          "execution_count": 46
        }
      ]
    },
    {
      "cell_type": "code",
      "source": [
        "def remove_punctuation(value):\n",
        "  return re.sub('[!@#?]', '', value)\n",
        "\n",
        "cleaning_ops = [str.strip, remove_punctuation, str.title]\n",
        "\n",
        "def clean_strings_generic(strings, ops):\n",
        "  result = []\n",
        "  for value in strings:\n",
        "    for func in ops:\n",
        "      value = func(value)\n",
        "    result.append(value)\n",
        "  \n",
        "  return result"
      ],
      "metadata": {
        "id": "A7Adi5Q3kOhT"
      },
      "execution_count": null,
      "outputs": []
    },
    {
      "cell_type": "code",
      "source": [
        "clean_strings_generic(states, cleaning_ops)"
      ],
      "metadata": {
        "colab": {
          "base_uri": "https://localhost:8080/"
        },
        "id": "CYZDYjKqlqso",
        "outputId": "be4750e2-5095-4cda-a71e-693cc8ebfe8f"
      },
      "execution_count": null,
      "outputs": [
        {
          "output_type": "execute_result",
          "data": {
            "text/plain": [
              "['Alabama', 'Georgia', 'Georgia', 'Florida', 'South Carolina', 'West Virginia']"
            ]
          },
          "metadata": {},
          "execution_count": 48
        }
      ]
    },
    {
      "cell_type": "code",
      "source": [],
      "metadata": {
        "id": "vz4eKtiblyLO"
      },
      "execution_count": null,
      "outputs": []
    }
  ]
}