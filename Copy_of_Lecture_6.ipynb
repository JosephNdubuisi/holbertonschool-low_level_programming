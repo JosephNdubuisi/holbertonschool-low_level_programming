{
  "nbformat": 4,
  "nbformat_minor": 0,
  "metadata": {
    "colab": {
      "provenance": [],
      "collapsed_sections": [],
      "include_colab_link": true
    },
    "kernelspec": {
      "name": "python3",
      "display_name": "Python 3"
    },
    "language_info": {
      "name": "python"
    }
  },
  "cells": [
    {
      "cell_type": "markdown",
      "metadata": {
        "id": "view-in-github",
        "colab_type": "text"
      },
      "source": [
        "<a href=\"https://colab.research.google.com/github/JosephNdubuisi/holbertonschool-low_level_programming/blob/master/Copy_of_Lecture_6.ipynb\" target=\"_parent\"><img src=\"https://colab.research.google.com/assets/colab-badge.svg\" alt=\"Open In Colab\"/></a>"
      ]
    },
    {
      "cell_type": "markdown",
      "source": [
        "Lecture 6 - October 7 2022"
      ],
      "metadata": {
        "id": "ebfdGtVij2-g"
      }
    },
    {
      "cell_type": "code",
      "source": [
        "def even(n):\n",
        "  if n % 2 == 0:\n",
        "    return True\n",
        "  return False"
      ],
      "metadata": {
        "id": "T6bWn3aZj5kI"
      },
      "execution_count": null,
      "outputs": []
    },
    {
      "cell_type": "code",
      "source": [
        "lambda x: x*x*x"
      ],
      "metadata": {
        "colab": {
          "base_uri": "https://localhost:8080/"
        },
        "id": "RbmHvmVzkJFR",
        "outputId": "4af7e5aa-aea6-4511-bc14-772f76147977"
      },
      "execution_count": null,
      "outputs": [
        {
          "output_type": "execute_result",
          "data": {
            "text/plain": [
              "<function __main__.<lambda>(x)>"
            ]
          },
          "metadata": {},
          "execution_count": 2
        }
      ]
    },
    {
      "cell_type": "code",
      "source": [
        "fun = lambda x: x*x*x"
      ],
      "metadata": {
        "id": "vv99GwMikinz"
      },
      "execution_count": null,
      "outputs": []
    },
    {
      "cell_type": "code",
      "source": [
        "fun(5)"
      ],
      "metadata": {
        "colab": {
          "base_uri": "https://localhost:8080/"
        },
        "id": "gbQ52uW5k6ol",
        "outputId": "92040850-1c45-41dc-976b-dc0ad67cc09b"
      },
      "execution_count": null,
      "outputs": [
        {
          "output_type": "execute_result",
          "data": {
            "text/plain": [
              "125"
            ]
          },
          "metadata": {},
          "execution_count": 5
        }
      ]
    },
    {
      "cell_type": "code",
      "source": [
        "(lambda x: x*x*x)(3)"
      ],
      "metadata": {
        "colab": {
          "base_uri": "https://localhost:8080/"
        },
        "id": "JIxGilfyk7w5",
        "outputId": "1dbf26dc-5767-4386-d665-92fd07378c16"
      },
      "execution_count": null,
      "outputs": [
        {
          "output_type": "execute_result",
          "data": {
            "text/plain": [
              "27"
            ]
          },
          "metadata": {},
          "execution_count": 6
        }
      ]
    },
    {
      "cell_type": "code",
      "source": [
        "def square(x):\n",
        "  return x*x"
      ],
      "metadata": {
        "id": "QEUsxjKYlONW"
      },
      "execution_count": null,
      "outputs": []
    },
    {
      "cell_type": "code",
      "source": [
        "def two_times_f(f):\n",
        "  return lambda x: f(f(x))\n",
        "\n",
        "quad = two_times_f(square)\n",
        "\n",
        "quad(3)"
      ],
      "metadata": {
        "colab": {
          "base_uri": "https://localhost:8080/"
        },
        "id": "xtlaPz1Nl7bS",
        "outputId": "56a31a03-c7fc-4e05-a35a-97d10672852b"
      },
      "execution_count": null,
      "outputs": [
        {
          "output_type": "execute_result",
          "data": {
            "text/plain": [
              "81"
            ]
          },
          "metadata": {},
          "execution_count": 8
        }
      ]
    },
    {
      "cell_type": "code",
      "source": [
        "HOF = lambda x, func: x + func(x)"
      ],
      "metadata": {
        "id": "TCVSe1gdmo3s"
      },
      "execution_count": null,
      "outputs": []
    },
    {
      "cell_type": "code",
      "source": [
        "HOF(3, lambda x: x*x)"
      ],
      "metadata": {
        "colab": {
          "base_uri": "https://localhost:8080/"
        },
        "id": "bYzdp_u1nV-K",
        "outputId": "92af5e0e-68d1-42ab-ae8b-ee3bdba5da25"
      },
      "execution_count": null,
      "outputs": [
        {
          "output_type": "execute_result",
          "data": {
            "text/plain": [
              "12"
            ]
          },
          "metadata": {},
          "execution_count": 10
        }
      ]
    },
    {
      "cell_type": "code",
      "source": [
        "def add_numbers(x, y):\n",
        "  return x + y\n",
        "\n",
        "add_five = lambda x: add_numbers(5, x)\n",
        "\n",
        "add_five"
      ],
      "metadata": {
        "colab": {
          "base_uri": "https://localhost:8080/"
        },
        "id": "MLAzs0GMnbad",
        "outputId": "9a595e2d-ac89-42a0-f5d9-d20eebf4f2b2"
      },
      "execution_count": null,
      "outputs": [
        {
          "output_type": "execute_result",
          "data": {
            "text/plain": [
              "<function __main__.<lambda>(x)>"
            ]
          },
          "metadata": {},
          "execution_count": 11
        }
      ]
    },
    {
      "cell_type": "code",
      "source": [
        "add_five(4)"
      ],
      "metadata": {
        "colab": {
          "base_uri": "https://localhost:8080/"
        },
        "id": "pCh4q3zaopJ_",
        "outputId": "1360cd3e-6a55-4358-f5ef-d12c7fe2ce1e"
      },
      "execution_count": null,
      "outputs": [
        {
          "output_type": "execute_result",
          "data": {
            "text/plain": [
              "9"
            ]
          },
          "metadata": {},
          "execution_count": 12
        }
      ]
    },
    {
      "cell_type": "code",
      "source": [
        "from functools import partial"
      ],
      "metadata": {
        "id": "ohiNwIIwowRn"
      },
      "execution_count": null,
      "outputs": []
    },
    {
      "cell_type": "code",
      "source": [
        "add_five2 = partial(add_numbers, 5)"
      ],
      "metadata": {
        "id": "wZU3Maz0pM04"
      },
      "execution_count": null,
      "outputs": []
    },
    {
      "cell_type": "code",
      "source": [
        "add_five2(4)"
      ],
      "metadata": {
        "colab": {
          "base_uri": "https://localhost:8080/"
        },
        "id": "w1r-dRtApYE9",
        "outputId": "9a55694c-b290-4ddb-f4c9-65ca617a57d6"
      },
      "execution_count": null,
      "outputs": [
        {
          "output_type": "execute_result",
          "data": {
            "text/plain": [
              "9"
            ]
          },
          "metadata": {},
          "execution_count": 17
        }
      ]
    },
    {
      "cell_type": "code",
      "source": [
        "def squares(n=10):\n",
        "  print(f'Generating squares from 1 to {n ** 2}')\n",
        "  for i in range(1, n+1):\n",
        "    yield i ** 2\n",
        "\n",
        "gen = squares()\n",
        "gen\n",
        "list(gen)"
      ],
      "metadata": {
        "colab": {
          "base_uri": "https://localhost:8080/"
        },
        "id": "Mo_lGBZCpe6c",
        "outputId": "2ca10d1c-36a7-43e7-9441-4e72565d60f3"
      },
      "execution_count": null,
      "outputs": [
        {
          "output_type": "stream",
          "name": "stdout",
          "text": [
            "Generating squares from 1 to 100\n"
          ]
        },
        {
          "output_type": "execute_result",
          "data": {
            "text/plain": [
              "[1, 4, 9, 16, 25, 36, 49, 64, 81, 100]"
            ]
          },
          "metadata": {},
          "execution_count": 23
        }
      ]
    },
    {
      "cell_type": "code",
      "source": [
        "for x in gen:\n",
        "  print(x)"
      ],
      "metadata": {
        "id": "F-bWIjIkrgsp"
      },
      "execution_count": null,
      "outputs": []
    },
    {
      "cell_type": "code",
      "source": [
        "# Challenge: Fibbonacci numbers\n",
        "\n",
        "#Fib(0) = 0\n",
        "#Fib(1) = 1\n",
        "#Fib(n) = Fib(n-1) + Fib(n-2)\n",
        "\n",
        "# Make a list of n Fibbonacci numbers\n",
        "\n",
        "# 1 1 2 3 5 8 13 21 34..."
      ],
      "metadata": {
        "id": "XXAPqc3Crua2"
      },
      "execution_count": null,
      "outputs": []
    },
    {
      "cell_type": "code",
      "source": [
        "n = int(input(\"Please enter n:\"))\n",
        "fib_list = [0, 1]\n",
        "for i in range(n-1):\n",
        "  print(\"Iteration num \" + (str(i)) + \", Fib list is:\")\n",
        "  print(fib_list)\n",
        "  print(\"Last element of fib_list:\", fib_list[-1])\n",
        "  print(\"Second last element of fib_list:\", fib_list[-2])\n",
        "  num = fib_list[-1] + fib_list[-2]\n",
        "  fib_list.append(num)\n",
        "  print(\"Newly computed Fibonacci number:\" + (str(num)))\n",
        "  print(\"Newly updated Fibonnaci list:\", fib_list)\n",
        "  print(\"\\n---------------------------------------\")\n",
        "\n",
        "print(fib_list)"
      ],
      "metadata": {
        "colab": {
          "base_uri": "https://localhost:8080/"
        },
        "id": "P7wuyRbC6Otn",
        "outputId": "605baa71-29d1-40d4-b78b-eefcea37a286"
      },
      "execution_count": null,
      "outputs": [
        {
          "output_type": "stream",
          "name": "stdout",
          "text": [
            "Please enter n:6\n",
            "Iteration num 0, Fib list is:\n",
            "[0, 1]\n",
            "Last element of fib_list: 1\n",
            "Second last element of fib_list: 0\n",
            "Newly computed Fibonacci number:1\n",
            "Newly updated Fibonnaci list: [0, 1, 1]\n",
            "\n",
            "---------------------------------------\n",
            "Iteration num 1, Fib list is:\n",
            "[0, 1, 1]\n",
            "Last element of fib_list: 1\n",
            "Second last element of fib_list: 1\n",
            "Newly computed Fibonacci number:2\n",
            "Newly updated Fibonnaci list: [0, 1, 1, 2]\n",
            "\n",
            "---------------------------------------\n",
            "Iteration num 2, Fib list is:\n",
            "[0, 1, 1, 2]\n",
            "Last element of fib_list: 2\n",
            "Second last element of fib_list: 1\n",
            "Newly computed Fibonacci number:3\n",
            "Newly updated Fibonnaci list: [0, 1, 1, 2, 3]\n",
            "\n",
            "---------------------------------------\n",
            "Iteration num 3, Fib list is:\n",
            "[0, 1, 1, 2, 3]\n",
            "Last element of fib_list: 3\n",
            "Second last element of fib_list: 2\n",
            "Newly computed Fibonacci number:5\n",
            "Newly updated Fibonnaci list: [0, 1, 1, 2, 3, 5]\n",
            "\n",
            "---------------------------------------\n",
            "Iteration num 4, Fib list is:\n",
            "[0, 1, 1, 2, 3, 5]\n",
            "Last element of fib_list: 5\n",
            "Second last element of fib_list: 3\n",
            "Newly computed Fibonacci number:8\n",
            "Newly updated Fibonnaci list: [0, 1, 1, 2, 3, 5, 8]\n",
            "\n",
            "---------------------------------------\n",
            "[0, 1, 1, 2, 3, 5, 8]\n"
          ]
        }
      ]
    },
    {
      "cell_type": "code",
      "source": [
        "5"
      ],
      "metadata": {
        "id": "gWfFSIXS7Nmk"
      },
      "execution_count": null,
      "outputs": []
    },
    {
      "cell_type": "markdown",
      "source": [
        "Exception Handling"
      ],
      "metadata": {
        "id": "3veAIA_zBVVH"
      }
    },
    {
      "cell_type": "code",
      "source": [
        "float('12.345')"
      ],
      "metadata": {
        "colab": {
          "base_uri": "https://localhost:8080/"
        },
        "id": "QFNjJJ7QBXFn",
        "outputId": "d82bc00a-6f34-40b6-e74b-362dbc37e363"
      },
      "execution_count": null,
      "outputs": [
        {
          "output_type": "execute_result",
          "data": {
            "text/plain": [
              "12.345"
            ]
          },
          "metadata": {},
          "execution_count": 33
        }
      ]
    },
    {
      "cell_type": "code",
      "source": [
        "float('12.   34')"
      ],
      "metadata": {
        "colab": {
          "base_uri": "https://localhost:8080/",
          "height": 166
        },
        "id": "oEYEnoDIBhnJ",
        "outputId": "e0de428e-9719-4a1b-fc08-12d7bf3d3fb4"
      },
      "execution_count": null,
      "outputs": [
        {
          "output_type": "error",
          "ename": "ValueError",
          "evalue": "ignored",
          "traceback": [
            "\u001b[0;31m---------------------------------------------------------------------------\u001b[0m",
            "\u001b[0;31mValueError\u001b[0m                                Traceback (most recent call last)",
            "\u001b[0;32m<ipython-input-34-a3ca6b627316>\u001b[0m in \u001b[0;36m<module>\u001b[0;34m\u001b[0m\n\u001b[0;32m----> 1\u001b[0;31m \u001b[0mfloat\u001b[0m\u001b[0;34m(\u001b[0m\u001b[0;34m'12.   34'\u001b[0m\u001b[0;34m)\u001b[0m\u001b[0;34m\u001b[0m\u001b[0;34m\u001b[0m\u001b[0m\n\u001b[0m",
            "\u001b[0;31mValueError\u001b[0m: could not convert string to float: '12.   34'"
          ]
        }
      ]
    },
    {
      "cell_type": "code",
      "source": [
        "float('foo')"
      ],
      "metadata": {
        "colab": {
          "base_uri": "https://localhost:8080/",
          "height": 166
        },
        "id": "I1IVJ46CBmf5",
        "outputId": "045a282b-fbe2-4d0d-8e00-ca22dc16483e"
      },
      "execution_count": null,
      "outputs": [
        {
          "output_type": "error",
          "ename": "ValueError",
          "evalue": "ignored",
          "traceback": [
            "\u001b[0;31m---------------------------------------------------------------------------\u001b[0m",
            "\u001b[0;31mValueError\u001b[0m                                Traceback (most recent call last)",
            "\u001b[0;32m<ipython-input-35-d82603720508>\u001b[0m in \u001b[0;36m<module>\u001b[0;34m\u001b[0m\n\u001b[0;32m----> 1\u001b[0;31m \u001b[0mfloat\u001b[0m\u001b[0;34m(\u001b[0m\u001b[0;34m'foo'\u001b[0m\u001b[0;34m)\u001b[0m\u001b[0;34m\u001b[0m\u001b[0;34m\u001b[0m\u001b[0m\n\u001b[0m",
            "\u001b[0;31mValueError\u001b[0m: could not convert string to float: 'foo'"
          ]
        }
      ]
    },
    {
      "cell_type": "code",
      "source": [
        "def attempt_float(x):\n",
        "  try:\n",
        "    return float(x)\n",
        "  except (ValueError):\n",
        "    return x\n",
        "  except (TypeError):\n",
        "    return x\n",
        "\n",
        "print(attempt_float('12.34'))\n",
        "print(attempt_float('ffooo'))"
      ],
      "metadata": {
        "colab": {
          "base_uri": "https://localhost:8080/"
        },
        "id": "OmwVlNdhB05W",
        "outputId": "e4766485-bd48-441e-d85b-9b8ff635b721"
      },
      "execution_count": null,
      "outputs": [
        {
          "output_type": "stream",
          "name": "stdout",
          "text": [
            "12.34\n",
            "ffooo\n"
          ]
        }
      ]
    },
    {
      "cell_type": "code",
      "source": [
        "f = open('some_path', 'w')\n",
        "try:\n",
        "  write_to_file(f)\n",
        "except:\n",
        "  print(\"failed\")\n",
        "else:\n",
        "  print(\"success\")\n",
        "finally:\n",
        "  f.close()"
      ],
      "metadata": {
        "colab": {
          "base_uri": "https://localhost:8080/"
        },
        "id": "OQboM2jDCkgT",
        "outputId": "7b5d22f0-1066-46fc-f523-8937303501b8"
      },
      "execution_count": null,
      "outputs": [
        {
          "output_type": "stream",
          "name": "stdout",
          "text": [
            "failed\n"
          ]
        }
      ]
    },
    {
      "cell_type": "code",
      "source": [
        "%ls"
      ],
      "metadata": {
        "colab": {
          "base_uri": "https://localhost:8080/"
        },
        "id": "LebxhUGIERjL",
        "outputId": "5c56a118-16aa-4104-a934-34c16a01b384"
      },
      "execution_count": null,
      "outputs": [
        {
          "output_type": "stream",
          "name": "stdout",
          "text": [
            "\u001b[0m\u001b[01;34msample_data\u001b[0m/  some_path\n"
          ]
        }
      ]
    },
    {
      "cell_type": "code",
      "source": [
        "%pwd"
      ],
      "metadata": {
        "colab": {
          "base_uri": "https://localhost:8080/",
          "height": 35
        },
        "id": "Utgx_vWZFHSu",
        "outputId": "26ec71bd-35b7-4b37-c7c1-ef16f62884ca"
      },
      "execution_count": null,
      "outputs": [
        {
          "output_type": "execute_result",
          "data": {
            "text/plain": [
              "'/content'"
            ],
            "application/vnd.google.colaboratory.intrinsic+json": {
              "type": "string"
            }
          },
          "metadata": {},
          "execution_count": 42
        }
      ]
    },
    {
      "cell_type": "code",
      "source": [
        "from google.colab import drive"
      ],
      "metadata": {
        "id": "KmeM_nudFNv6"
      },
      "execution_count": null,
      "outputs": []
    },
    {
      "cell_type": "code",
      "source": [
        "drive.mount('/content/gdrive', force_remount=True)"
      ],
      "metadata": {
        "colab": {
          "base_uri": "https://localhost:8080/"
        },
        "id": "lZphfhbNFVrw",
        "outputId": "b0bffb9d-20c3-4442-8f73-415146b5a134"
      },
      "execution_count": null,
      "outputs": [
        {
          "output_type": "stream",
          "name": "stdout",
          "text": [
            "Mounted at /content/gdrive\n"
          ]
        }
      ]
    },
    {
      "cell_type": "code",
      "source": [
        "path = \"/content/gdrive/MyDrive/M.Sc. in C.S. 1001 - Fall 2022/Lecture 6/input.txt\""
      ],
      "metadata": {
        "id": "adVhptTCFhWm"
      },
      "execution_count": null,
      "outputs": []
    },
    {
      "cell_type": "code",
      "source": [
        "with open(path, 'r') as input_file:\n",
        "  text = input_file.read()\n",
        "\n",
        "print(text)"
      ],
      "metadata": {
        "colab": {
          "base_uri": "https://localhost:8080/"
        },
        "id": "hOIX2rPPGPlk",
        "outputId": "7c9d7268-9120-4fc9-eadf-6a51998f25c6"
      },
      "execution_count": null,
      "outputs": [
        {
          "output_type": "stream",
          "name": "stdout",
          "text": [
            "[Verse 1]\n",
            "It's close to midnight\n",
            "And something evil's lurking in the dark\n",
            "Under the moonlight\n",
            "You see a sight that almost stops your heart\n",
            "You try to scream\n",
            "But terror takes the sound before you make it\n",
            "You start to freeze\n",
            "As horror looks you right between the eyes\n",
            "You're paralyzed\n",
            "\n",
            "[Chorus]\n",
            "'Cause this is thriller, thriller night\n",
            "And no one's gonna save you\n",
            "From the beast about to strike\n",
            "You know it's thriller, thriller night\n",
            "You're fighting for your life inside a killer\n",
            "Thriller tonight, yeah\n",
            "Ooh\n",
            "\n",
            "[Verse 2]\n",
            "You hear the door slam\n",
            "And realize there's nowhere left to run\n",
            "You feel the cold hand\n",
            "And wonder if you'll ever see the sun\n",
            "You close your eyes\n",
            "And hope that this is just imagination (Girl)\n",
            "But all the while\n",
            "You hear a creature creepin’ up behind\n",
            "You're out of time\n",
            "You might also like\n",
            "Gangsta’s Paradise\n",
            "Coolio\n",
            "This Is Why\n",
            "Paramore\n",
            "Running Up That Hill (A Deal with God)\n",
            "Kate Bush\n",
            "[Chorus]\n",
            "'Cause this is thriller, thriller night\n",
            "There ain't no second chance\n",
            "Against the thing with forty eyes, girl\n",
            "Thriller (Ooh), thriller night\n",
            "You're fighting for your life\n",
            "Inside a killer, thriller tonight\n",
            "\n",
            "[Bridge]\n",
            "Night creatures call\n",
            "And the dead start to walk in their masquerade\n",
            "There's no escaping the jaws of the alien this time\n",
            "(They're open wide)\n",
            "This is the end of your life, ooh\n",
            "\n",
            "[Verse 3]\n",
            "They're out to get you\n",
            "There's demons closing in on every side (Ooh)\n",
            "They will possess you\n",
            "Unless you change that number on your dial\n",
            "Now is the time\n",
            "For you and I to cuddle close together, yeah\n",
            "All through the night\n",
            "I'll save you from the terrors on the screen\n",
            "I'll make you see\n",
            "[Chorus]\n",
            "That this is thriller, thriller night\n",
            "'Cause I can thrill you more\n",
            "Than any ghoul would ever dare try\n",
            "Thriller (Ooh), thriller night\n",
            "So let me hold you tight\n",
            "And share a killer, thriller, chiller\n",
            "Thriller, here tonight\n",
            "'Cause this is thriller, thriller night\n",
            "Girl, I can thrill you more\n",
            "Than any ghoul would ever dare try\n",
            "Thriller (Ooh), thriller night\n",
            "So let me hold you tight\n",
            "And share a killer, thriller (Ow!)\n",
            "\n",
            "[Outro: Vincent Price & Michael Jackson]\n",
            "I'm gonna thrill you tonight\n",
            "Darkness falls across the land\n",
            "The midnight hour is close at hand\n",
            "Creatures crawl in search of blood\n",
            "To terrorize y'all’s neighborhood (I'm gonna thrill you tonight)\n",
            "And whosoever shall be found\n",
            "Without the soul for getting down\n",
            "Must stand and face the hounds of hell\n",
            "And rot inside a corpse's shell\n",
            "I'm gonna thrill you tonight\n",
            "Thriller, ooh, babe (Thriller)\n",
            "I'm gonna thrill you tonight (Thriller night)\n",
            "Thriller, oh, darling (Oh, baby)\n",
            "I'm gonna thrill you tonight (Thriller)\n",
            "Ooh, babe (Thriller night)\n",
            "I'm gonna thrill you tonight (Thriller)\n",
            "Oh, darling (Oh, baby)\n",
            "Thriller night, babe (Thriller night, babe)\n",
            "Ooh\n",
            "The foulest stench is in the air\n",
            "The funk of forty thousand years (Thriller night, thriller)\n",
            "And grisly ghouls from every tomb\n",
            "Are closing in to seal your doom\n",
            "And though you fight to stay alive\n",
            "Your body starts to shiver (I'm gonna thrill you tonight)\n",
            "For no mere mortal can resist\n",
            "The evil of the thriller!\n",
            "AHAHAHAHAHAHAHAHA\n",
            "AHAHAHAHAHAHAHAHA!\n"
          ]
        }
      ]
    },
    {
      "cell_type": "code",
      "source": [],
      "metadata": {
        "id": "CqmKU97oGikB"
      },
      "execution_count": null,
      "outputs": []
    }
  ]
}